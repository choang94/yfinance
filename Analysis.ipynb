{
 "cells": [
  {
   "cell_type": "markdown",
   "metadata": {},
   "source": [
    "## Analyze stock prices on May 11th, 2021\n",
    "In this analysis, we look at the highest \"highs\" and lowest \"lows\"of 10 stocks: \n",
    "\n",
    "- Facebook (FB)\n",
    "- Shopify (SHOP)\n",
    "- Beyond Meat (BYND)\n",
    "- Netflix (NFLX)\n",
    "- Pinterest (PINS)\n",
    "- Square (SQ)\n",
    "- The Trade Desk (TTD)\n",
    "- Okta (OKTA)\n",
    "- Snap (SNAP)\n",
    "- Datadog (DDOG)\n"
   ]
  },
  {
   "cell_type": "code",
   "execution_count": 1,
   "metadata": {},
   "outputs": [],
   "source": [
    "# Load libraries\n",
    "import pandas as pd\n",
    "import numpy as np\n",
    "import matplotlib.pyplot as plt\n",
    "import seaborn as sns\n",
    "from datetime import datetime"
   ]
  },
  {
   "cell_type": "code",
   "execution_count": 2,
   "metadata": {},
   "outputs": [
    {
     "data": {
      "text/html": [
       "<div>\n",
       "<style scoped>\n",
       "    .dataframe tbody tr th:only-of-type {\n",
       "        vertical-align: middle;\n",
       "    }\n",
       "\n",
       "    .dataframe tbody tr th {\n",
       "        vertical-align: top;\n",
       "    }\n",
       "\n",
       "    .dataframe thead th {\n",
       "        text-align: right;\n",
       "    }\n",
       "</style>\n",
       "<table border=\"1\" class=\"dataframe\">\n",
       "  <thead>\n",
       "    <tr style=\"text-align: right;\">\n",
       "      <th></th>\n",
       "      <th>name</th>\n",
       "      <th>hour</th>\n",
       "      <th>highest_price</th>\n",
       "    </tr>\n",
       "  </thead>\n",
       "  <tbody>\n",
       "    <tr>\n",
       "      <td>0</td>\n",
       "      <td>SHOP</td>\n",
       "      <td>3</td>\n",
       "      <td>1121.59</td>\n",
       "    </tr>\n",
       "    <tr>\n",
       "      <td>1</td>\n",
       "      <td>SHOP</td>\n",
       "      <td>1</td>\n",
       "      <td>1117.99</td>\n",
       "    </tr>\n",
       "    <tr>\n",
       "      <td>2</td>\n",
       "      <td>SHOP</td>\n",
       "      <td>2</td>\n",
       "      <td>1116.00</td>\n",
       "    </tr>\n",
       "    <tr>\n",
       "      <td>3</td>\n",
       "      <td>SHOP</td>\n",
       "      <td>11</td>\n",
       "      <td>1104.30</td>\n",
       "    </tr>\n",
       "    <tr>\n",
       "      <td>4</td>\n",
       "      <td>SHOP</td>\n",
       "      <td>12</td>\n",
       "      <td>1101.40</td>\n",
       "    </tr>\n",
       "    <tr>\n",
       "      <td>...</td>\n",
       "      <td>...</td>\n",
       "      <td>...</td>\n",
       "      <td>...</td>\n",
       "    </tr>\n",
       "    <tr>\n",
       "      <td>65</td>\n",
       "      <td>SNAP</td>\n",
       "      <td>1</td>\n",
       "      <td>52.67</td>\n",
       "    </tr>\n",
       "    <tr>\n",
       "      <td>66</td>\n",
       "      <td>SNAP</td>\n",
       "      <td>9</td>\n",
       "      <td>52.64</td>\n",
       "    </tr>\n",
       "    <tr>\n",
       "      <td>67</td>\n",
       "      <td>SNAP</td>\n",
       "      <td>10</td>\n",
       "      <td>52.63</td>\n",
       "    </tr>\n",
       "    <tr>\n",
       "      <td>68</td>\n",
       "      <td>SNAP</td>\n",
       "      <td>12</td>\n",
       "      <td>52.55</td>\n",
       "    </tr>\n",
       "    <tr>\n",
       "      <td>69</td>\n",
       "      <td>SNAP</td>\n",
       "      <td>11</td>\n",
       "      <td>52.25</td>\n",
       "    </tr>\n",
       "  </tbody>\n",
       "</table>\n",
       "<p>70 rows × 3 columns</p>\n",
       "</div>"
      ],
      "text/plain": [
       "    name  hour  highest_price\n",
       "0   SHOP     3        1121.59\n",
       "1   SHOP     1        1117.99\n",
       "2   SHOP     2        1116.00\n",
       "3   SHOP    11        1104.30\n",
       "4   SHOP    12        1101.40\n",
       "..   ...   ...            ...\n",
       "65  SNAP     1          52.67\n",
       "66  SNAP     9          52.64\n",
       "67  SNAP    10          52.63\n",
       "68  SNAP    12          52.55\n",
       "69  SNAP    11          52.25\n",
       "\n",
       "[70 rows x 3 columns]"
      ]
     },
     "execution_count": 2,
     "metadata": {},
     "output_type": "execute_result"
    }
   ],
   "source": [
    "# Read data queried from AWS Athena\n",
    "res = pd.read_csv(\"results.csv\")\n",
    "res"
   ]
  },
  {
   "cell_type": "code",
   "execution_count": 3,
   "metadata": {},
   "outputs": [
    {
     "data": {
      "text/html": [
       "<div>\n",
       "<style scoped>\n",
       "    .dataframe tbody tr th:only-of-type {\n",
       "        vertical-align: middle;\n",
       "    }\n",
       "\n",
       "    .dataframe tbody tr th {\n",
       "        vertical-align: top;\n",
       "    }\n",
       "\n",
       "    .dataframe thead th {\n",
       "        text-align: right;\n",
       "    }\n",
       "</style>\n",
       "<table border=\"1\" class=\"dataframe\">\n",
       "  <thead>\n",
       "    <tr style=\"text-align: right;\">\n",
       "      <th></th>\n",
       "      <th>name</th>\n",
       "      <th>hour</th>\n",
       "      <th>highest_price</th>\n",
       "      <th>nhours</th>\n",
       "    </tr>\n",
       "  </thead>\n",
       "  <tbody>\n",
       "    <tr>\n",
       "      <td>0</td>\n",
       "      <td>SHOP</td>\n",
       "      <td>3</td>\n",
       "      <td>1121.59</td>\n",
       "      <td>15</td>\n",
       "    </tr>\n",
       "    <tr>\n",
       "      <td>1</td>\n",
       "      <td>SHOP</td>\n",
       "      <td>1</td>\n",
       "      <td>1117.99</td>\n",
       "      <td>13</td>\n",
       "    </tr>\n",
       "    <tr>\n",
       "      <td>2</td>\n",
       "      <td>SHOP</td>\n",
       "      <td>2</td>\n",
       "      <td>1116.00</td>\n",
       "      <td>14</td>\n",
       "    </tr>\n",
       "    <tr>\n",
       "      <td>3</td>\n",
       "      <td>SHOP</td>\n",
       "      <td>11</td>\n",
       "      <td>1104.30</td>\n",
       "      <td>11</td>\n",
       "    </tr>\n",
       "    <tr>\n",
       "      <td>4</td>\n",
       "      <td>SHOP</td>\n",
       "      <td>12</td>\n",
       "      <td>1101.40</td>\n",
       "      <td>12</td>\n",
       "    </tr>\n",
       "  </tbody>\n",
       "</table>\n",
       "</div>"
      ],
      "text/plain": [
       "   name  hour  highest_price  nhours\n",
       "0  SHOP     3        1121.59      15\n",
       "1  SHOP     1        1117.99      13\n",
       "2  SHOP     2        1116.00      14\n",
       "3  SHOP    11        1104.30      11\n",
       "4  SHOP    12        1101.40      12"
      ]
     },
     "execution_count": 3,
     "metadata": {},
     "output_type": "execute_result"
    }
   ],
   "source": [
    "# Convert to army time\n",
    "newhours = []\n",
    "for i in res['hour']:\n",
    "    i = str(i)\n",
    "    if i == \"1\":\n",
    "        i = \"13\"\n",
    "    elif i == \"2\":\n",
    "        i = \"14\"\n",
    "    elif i == \"3\":\n",
    "        i = \"15\"\n",
    "    i = datetime.strptime(i,\"%H\")\n",
    "    newhours.append(i.hour)\n",
    "newhours\n",
    "res['nhours'] = newhours\n",
    "res.head()"
   ]
  },
  {
   "cell_type": "code",
   "execution_count": 4,
   "metadata": {},
   "outputs": [
    {
     "data": {
      "image/png": "[encoded data removed]",
      "text/plain": [
       "<Figure size 720x432 with 1 Axes>"
      ]
     },
     "metadata": {
      "needs_background": "light"
     },
     "output_type": "display_data"
    }
   ],
   "source": [
    "# Lineplot of the highest \"high\" by hour\n",
    "plt.figure(figsize = (10,6))\n",
    "sns.lineplot(x = 'nhours', y = 'highest_price', hue = 'name',\n",
    "            data = res, palette = 'bright')\n",
    "plt.tight_layout()\n",
    "plt.legend(title = 'Stock Name',bbox_to_anchor = (1.05,1), loc = 2)\n",
    "plt.title('Highest stock price by hour',fontsize = 14)\n",
    "plt.xlabel(\"Hour\")\n",
    "plt.ylabel(\"Highest Price ($)\")\n",
    "plt.show()"
   ]
  },
  {
   "cell_type": "code",
   "execution_count": 36,
   "metadata": {},
   "outputs": [
    {
     "data": {
      "text/plain": [
       "<matplotlib.legend.Legend at 0x7fe5a0c0c790>"
      ]
     },
     "execution_count": 36,
     "metadata": {},
     "output_type": "execute_result"
    },
    {
     "data": {
      "image/png": "[encoded data removed]",
      "text/plain": [
       "<Figure size 720x432 with 1 Axes>"
      ]
     },
     "metadata": {
      "needs_background": "light"
     },
     "output_type": "display_data"
    }
   ],
   "source": [
    "# Barplot of the highest \"high\" by hour\n",
    "plt.figure(figsize = (10,6))\n",
    "sns.barplot(x = 'nhours', y = 'highest_price', hue = 'name',\n",
    "            data = res, palette = 'pastel')\n",
    "plt.tight_layout()\n",
    "plt.title('Highest stock price by hour',fontsize = 14)\n",
    "plt.xlabel(\"Hour\")\n",
    "plt.ylabel(\"Highest Price($)\")\n",
    "plt.legend(title = 'Stock Name',bbox_to_anchor = (1.05,1), loc = 2)"
   ]
  },
  {
   "cell_type": "markdown",
   "metadata": {},
   "source": [
    "SHOP stock price stayed the highest out of all stocks. SHOP and TTD increased towards the end of the day while others didn't fluctuate much"
   ]
  },
  {
   "cell_type": "code",
   "execution_count": 27,
   "metadata": {},
   "outputs": [
    {
     "data": {
      "text/html": [
       "<div>\n",
       "<style scoped>\n",
       "    .dataframe tbody tr th:only-of-type {\n",
       "        vertical-align: middle;\n",
       "    }\n",
       "\n",
       "    .dataframe tbody tr th {\n",
       "        vertical-align: top;\n",
       "    }\n",
       "\n",
       "    .dataframe thead th {\n",
       "        text-align: right;\n",
       "    }\n",
       "</style>\n",
       "<table border=\"1\" class=\"dataframe\">\n",
       "  <thead>\n",
       "    <tr style=\"text-align: right;\">\n",
       "      <th></th>\n",
       "      <th>name</th>\n",
       "      <th>price</th>\n",
       "      <th>type</th>\n",
       "    </tr>\n",
       "  </thead>\n",
       "  <tbody>\n",
       "    <tr>\n",
       "      <td>0</td>\n",
       "      <td>BYND</td>\n",
       "      <td>108.534286</td>\n",
       "      <td>highest</td>\n",
       "    </tr>\n",
       "    <tr>\n",
       "      <td>1</td>\n",
       "      <td>DDOG</td>\n",
       "      <td>78.347143</td>\n",
       "      <td>highest</td>\n",
       "    </tr>\n",
       "    <tr>\n",
       "      <td>2</td>\n",
       "      <td>FB</td>\n",
       "      <td>305.755714</td>\n",
       "      <td>highest</td>\n",
       "    </tr>\n",
       "    <tr>\n",
       "      <td>3</td>\n",
       "      <td>NFLX</td>\n",
       "      <td>495.310000</td>\n",
       "      <td>highest</td>\n",
       "    </tr>\n",
       "    <tr>\n",
       "      <td>4</td>\n",
       "      <td>OKTA</td>\n",
       "      <td>237.068571</td>\n",
       "      <td>highest</td>\n",
       "    </tr>\n",
       "    <tr>\n",
       "      <td>5</td>\n",
       "      <td>PINS</td>\n",
       "      <td>59.615714</td>\n",
       "      <td>highest</td>\n",
       "    </tr>\n",
       "    <tr>\n",
       "      <td>6</td>\n",
       "      <td>SHOP</td>\n",
       "      <td>1102.051429</td>\n",
       "      <td>highest</td>\n",
       "    </tr>\n",
       "    <tr>\n",
       "      <td>7</td>\n",
       "      <td>SNAP</td>\n",
       "      <td>52.808571</td>\n",
       "      <td>highest</td>\n",
       "    </tr>\n",
       "    <tr>\n",
       "      <td>8</td>\n",
       "      <td>SQ</td>\n",
       "      <td>219.520000</td>\n",
       "      <td>highest</td>\n",
       "    </tr>\n",
       "    <tr>\n",
       "      <td>9</td>\n",
       "      <td>TTD</td>\n",
       "      <td>499.014286</td>\n",
       "      <td>highest</td>\n",
       "    </tr>\n",
       "  </tbody>\n",
       "</table>\n",
       "</div>"
      ],
      "text/plain": [
       "   name        price     type\n",
       "0  BYND   108.534286  highest\n",
       "1  DDOG    78.347143  highest\n",
       "2    FB   305.755714  highest\n",
       "3  NFLX   495.310000  highest\n",
       "4  OKTA   237.068571  highest\n",
       "5  PINS    59.615714  highest\n",
       "6  SHOP  1102.051429  highest\n",
       "7  SNAP    52.808571  highest\n",
       "8    SQ   219.520000  highest\n",
       "9   TTD   499.014286  highest"
      ]
     },
     "execution_count": 27,
     "metadata": {},
     "output_type": "execute_result"
    }
   ],
   "source": [
    "# Get the highest high by stock\n",
    "df2 = res.groupby(\"name\", as_index = False).agg({'highest_price':'mean'})\n",
    "df2 = df2.rename(columns = {'highest_price':'price'})\n",
    "df2['type'] = 'highest'\n",
    "df2"
   ]
  },
  {
   "cell_type": "code",
   "execution_count": 28,
   "metadata": {},
   "outputs": [
    {
     "data": {
      "text/html": [
       "<div>\n",
       "<style scoped>\n",
       "    .dataframe tbody tr th:only-of-type {\n",
       "        vertical-align: middle;\n",
       "    }\n",
       "\n",
       "    .dataframe tbody tr th {\n",
       "        vertical-align: top;\n",
       "    }\n",
       "\n",
       "    .dataframe thead th {\n",
       "        text-align: right;\n",
       "    }\n",
       "</style>\n",
       "<table border=\"1\" class=\"dataframe\">\n",
       "  <thead>\n",
       "    <tr style=\"text-align: right;\">\n",
       "      <th></th>\n",
       "      <th>name</th>\n",
       "      <th>price</th>\n",
       "      <th>type</th>\n",
       "    </tr>\n",
       "  </thead>\n",
       "  <tbody>\n",
       "    <tr>\n",
       "      <td>0</td>\n",
       "      <td>NFLX</td>\n",
       "      <td>478.630005</td>\n",
       "      <td>lowest</td>\n",
       "    </tr>\n",
       "    <tr>\n",
       "      <td>1</td>\n",
       "      <td>SQ</td>\n",
       "      <td>205.690002</td>\n",
       "      <td>lowest</td>\n",
       "    </tr>\n",
       "    <tr>\n",
       "      <td>2</td>\n",
       "      <td>FB</td>\n",
       "      <td>299.769989</td>\n",
       "      <td>lowest</td>\n",
       "    </tr>\n",
       "    <tr>\n",
       "      <td>3</td>\n",
       "      <td>SHOP</td>\n",
       "      <td>1031.750000</td>\n",
       "      <td>lowest</td>\n",
       "    </tr>\n",
       "    <tr>\n",
       "      <td>4</td>\n",
       "      <td>PINS</td>\n",
       "      <td>55.602901</td>\n",
       "      <td>lowest</td>\n",
       "    </tr>\n",
       "    <tr>\n",
       "      <td>5</td>\n",
       "      <td>TTD</td>\n",
       "      <td>467.100006</td>\n",
       "      <td>lowest</td>\n",
       "    </tr>\n",
       "    <tr>\n",
       "      <td>6</td>\n",
       "      <td>BYND</td>\n",
       "      <td>100.818604</td>\n",
       "      <td>lowest</td>\n",
       "    </tr>\n",
       "    <tr>\n",
       "      <td>7</td>\n",
       "      <td>OKTA</td>\n",
       "      <td>218.550003</td>\n",
       "      <td>lowest</td>\n",
       "    </tr>\n",
       "    <tr>\n",
       "      <td>8</td>\n",
       "      <td>SNAP</td>\n",
       "      <td>50.139999</td>\n",
       "      <td>lowest</td>\n",
       "    </tr>\n",
       "    <tr>\n",
       "      <td>9</td>\n",
       "      <td>DDOG</td>\n",
       "      <td>73.040001</td>\n",
       "      <td>lowest</td>\n",
       "    </tr>\n",
       "  </tbody>\n",
       "</table>\n",
       "</div>"
      ],
      "text/plain": [
       "   name        price    type\n",
       "0  NFLX   478.630005  lowest\n",
       "1    SQ   205.690002  lowest\n",
       "2    FB   299.769989  lowest\n",
       "3  SHOP  1031.750000  lowest\n",
       "4  PINS    55.602901  lowest\n",
       "5   TTD   467.100006  lowest\n",
       "6  BYND   100.818604  lowest\n",
       "7  OKTA   218.550003  lowest\n",
       "8  SNAP    50.139999  lowest\n",
       "9  DDOG    73.040001  lowest"
      ]
     },
     "execution_count": 28,
     "metadata": {},
     "output_type": "execute_result"
    }
   ],
   "source": [
    "# Get lowest low by stock data queried from Athena\n",
    "df3 = pd.read_csv(\"result2.csv\")\n",
    "df3['type'] = 'lowest'\n",
    "df3.columns = ['name','price','type']\n",
    "df3"
   ]
  },
  {
   "cell_type": "code",
   "execution_count": 30,
   "metadata": {},
   "outputs": [],
   "source": [
    "# Combine two dataframes\n",
    "df4 = df2.append(df3)"
   ]
  },
  {
   "cell_type": "code",
   "execution_count": 37,
   "metadata": {},
   "outputs": [
    {
     "data": {
      "text/plain": [
       "Text(0, 0.5, 'Price ($)')"
      ]
     },
     "execution_count": 37,
     "metadata": {},
     "output_type": "execute_result"
    },
    {
     "data": {
      "image/png": "[encoded data removed]",
      "text/plain": [
       "<Figure size 720x432 with 1 Axes>"
      ]
     },
     "metadata": {
      "needs_background": "light"
     },
     "output_type": "display_data"
    }
   ],
   "source": [
    "# Plot the highest high and lowest low by stock\n",
    "plt.figure(figsize = (10,6))\n",
    "sns.barplot(x = 'name', y = 'price', hue = 'type', data = df4)\n",
    "plt.title(\"Highest High and Lowest Low by Stock\")\n",
    "plt.xlabel(\"Stock\")\n",
    "plt.ylabel(\"Price ($)\")"
   ]
  },
  {
   "cell_type": "markdown",
   "metadata": {},
   "source": [
    "The fluctuation between the highest and the lowest of SHOP is the largest then TTD and OKTA and SQ\n",
    "\n",
    "The difference between the highest and the lowest is the lowest in SNAP, PINS, DDOG, FB, BYND"
   ]
  }
 ],
 "metadata": {
  "kernelspec": {
   "display_name": "Python 3",
   "language": "python",
   "name": "python3"
  },
  "language_info": {
   "codemirror_mode": {
    "name": "ipython",
    "version": 3
   },
   "file_extension": ".py",
   "mimetype": "text/x-python",
   "name": "python",
   "nbconvert_exporter": "python",
   "pygments_lexer": "ipython3",
   "version": "3.7.4"
  }
 },
 "nbformat": 4,
 "nbformat_minor": 2
}
